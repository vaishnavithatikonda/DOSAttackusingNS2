{
  "nbformat": 4,
  "nbformat_minor": 0,
  "metadata": {
    "colab": {
      "provenance": [],
      "authorship_tag": "ABX9TyO8f7lCD0YKQZVuTHN4vnhm",
      "include_colab_link": true
    },
    "kernelspec": {
      "name": "python3",
      "display_name": "Python 3"
    },
    "language_info": {
      "name": "python"
    }
  },
  "cells": [
    {
      "cell_type": "markdown",
      "metadata": {
        "id": "view-in-github",
        "colab_type": "text"
      },
      "source": [
        "<a href=\"https://colab.research.google.com/github/vaishnavithatikonda/DOSAttackusingNS2/blob/main/DOSAttack.ipynb\" target=\"_parent\"><img src=\"https://colab.research.google.com/assets/colab-badge.svg\" alt=\"Open In Colab\"/></a>"
      ]
    },
    {
      "cell_type": "code",
      "execution_count": null,
      "metadata": {
        "id": "BJRoKsr1-zoE"
      },
      "outputs": [],
      "source": [
        "set ns [new simulator]\n",
        "#create trace file\n",
        "set tracefile [open dos.tr.w]\n",
        "$ns trace.all $tracefile\n",
        "#nam file creation\n",
        "set namfile [open dos.nam w]\n",
        "$ns namtrace-all $namfile\n",
        "#finish procedure\n",
        "proc finish {} {\n",
        "    global ns tracefile namfile\n",
        "    $ns flush-trace\n",
        "    close $tracefile\n",
        "    close $namfile\n",
        "    exec nam dos.nam &\n",
        "    exit 0\n",
        "}\n",
        "\n",
        "set server1  [$ns node]\n",
        "set server2  [$ns node]\n",
        "set client1  [$ns node]\n",
        "set client2  [$ns node]\n",
        "set attacker  [$ns node]\n",
        "# connection\n",
        "$ns duplex.line $client1 $server1  12 Mb 100Ms DropTail\n",
        "$ns duplex.line $client2 $server1 12 Mb 100Ms DropTail\n",
        "$ns duplex.line $attacker $server1 12 Mb 100Ms DropTail\n",
        "$ns duplex.line $server1  $server2 12 Mb 100Ms DropTail\n",
        "$ns queue-limit $server1  $server2 20\n",
        "#create agents\n",
        "set udp1 [new Agent/UDP]\n",
        "$ns attach-agent $client1 $udp1\n",
        "set udp2 [new Agent/UDP]\n",
        "$ns attach-agent $client2 $udp2\n",
        "set udp3 [new Agent/UDP]\n",
        "$ns attach-agent $attacker $udp3\n",
        "set null [new Agent/UDP]\n",
        "$ns attach-agent $server2 $null\n",
        "$ns connect $udp1 $null\n",
        "$ns connect $udp2 $null\n",
        "$ns connect $udp3 $null\n",
        "set cbr1 [new Application/Traffic/CBR]\n",
        "$cbr1 attach-agent $udp1\n",
        "$cbr1 set packet_size_7000\n",
        "$cbr1 set rate_ 0.4Mb\n",
        "$cbr1 setrandom_ false\n",
        "$cbr1 set interval_ 0.08\n",
        "set cbr2 [new Application/Traffic/CBR]\n",
        "$cbr2 attach-agent $udp2\n",
        "$cbr2 set packet_size_4000\n",
        "$cbr2 set rate_ 0.6Mb\n",
        "$cbr2 setrandom_ false\n",
        "$cbr2 set interval_ 0.08\n",
        "set cbr3 [new Application/Traffic/CBR]\n",
        "$cbr3 attach-agent $udp1\n",
        "$cbr3 set packet_size_7000\n",
        "$cbr3 set rate_ 0.4Mb\n",
        "$cbr3 setrandom_ false\n",
        "$cbr3 set interval_ 0.08"
      ]
    }
  ]
}